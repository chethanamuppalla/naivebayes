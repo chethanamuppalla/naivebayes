{
  "nbformat": 4,
  "nbformat_minor": 0,
  "metadata": {
    "colab": {
      "name": "NaiveBayes.ipynb",
      "provenance": [],
      "collapsed_sections": [],
      "authorship_tag": "ABX9TyNuT+0z4LbBs/NChCP7a/Gu",
      "include_colab_link": true
    },
    "kernelspec": {
      "name": "python3",
      "display_name": "Python 3"
    },
    "language_info": {
      "name": "python"
    }
  },
  "cells": [
    {
      "cell_type": "markdown",
      "metadata": {
        "id": "view-in-github",
        "colab_type": "text"
      },
      "source": [
        "<a href=\"https://colab.research.google.com/github/chethanamuppalla/naivebayes/blob/main/NaiveBayes.ipynb\" target=\"_parent\"><img src=\"https://colab.research.google.com/assets/colab-badge.svg\" alt=\"Open In Colab\"/></a>"
      ]
    },
    {
      "cell_type": "code",
      "metadata": {
        "id": "U9akLqdI3DU0"
      },
      "source": [
        "import pandas as pd"
      ],
      "execution_count": null,
      "outputs": []
    },
    {
      "cell_type": "code",
      "metadata": {
        "colab": {
          "base_uri": "https://localhost:8080/"
        },
        "id": "VArGCNGo3T2E",
        "outputId": "603a91d9-c7e3-4cf7-b36c-730e28bc67ae"
      },
      "source": [
        "data=pd.read_csv(\"/content/Cars.csv\")\n",
        "print(data)"
      ],
      "execution_count": null,
      "outputs": [
        {
          "output_type": "stream",
          "text": [
            "   Sr.no   Color    Type    Origin Stolen(class)\n",
            "0      1     Red  Sports  Domestic           Yes\n",
            "1      2     Red  Sports  Domestic            No\n",
            "2      3     Red     SUV  Imported            No\n",
            "3      4  Yellow  Sports  Imported           Yes\n",
            "4      5  Yellow     SUV  Imported           Yes\n",
            "5      6     Red  Sports  Imported           Yes\n"
          ],
          "name": "stdout"
        }
      ]
    },
    {
      "cell_type": "code",
      "metadata": {
        "colab": {
          "base_uri": "https://localhost:8080/"
        },
        "id": "ISrHS8up3acl",
        "outputId": "c81e966a-6c2b-4b24-eaf4-2b1c3696cb12"
      },
      "source": [
        "from sklearn import preprocessing\n",
        "#creating labelEncoder\n",
        "le = preprocessing.LabelEncoder()\n",
        "#Converting string labels into numbers.\n",
        "Color_encoded=le.fit_transform(data['Color'])\n",
        "Type_encoded=le.fit_transform(data['Type'])\n",
        "Origin_encoded=le.fit_transform(data['Origin'])\n",
        "label=le.fit_transform(data['Stolen(class)'])\n",
        "print (Color_encoded)\n",
        "print (Type_encoded)\n",
        "print (Origin_encoded)\n",
        "print (label)\n"
      ],
      "execution_count": null,
      "outputs": [
        {
          "output_type": "stream",
          "text": [
            "[0 0 0 1 1 0]\n",
            "[1 1 0 1 0 1]\n",
            "[0 0 1 1 1 1]\n",
            "[1 0 0 1 1 1]\n"
          ],
          "name": "stdout"
        }
      ]
    },
    {
      "cell_type": "code",
      "metadata": {
        "colab": {
          "base_uri": "https://localhost:8080/"
        },
        "id": "1-lvn4bx3p6v",
        "outputId": "7d25612c-e602-4327-8c97-8ced6d8e2fa1"
      },
      "source": [
        "features=zip(Color_encoded,Type_encoded,Origin_encoded)\n",
        "f=list(features)\n",
        "print(f)\n"
      ],
      "execution_count": null,
      "outputs": [
        {
          "output_type": "stream",
          "text": [
            "[(0, 1, 0), (0, 1, 0), (0, 0, 1), (1, 1, 1), (1, 0, 1), (0, 1, 1)]\n"
          ],
          "name": "stdout"
        }
      ]
    },
    {
      "cell_type": "code",
      "metadata": {
        "colab": {
          "base_uri": "https://localhost:8080/"
        },
        "id": "FSHNmrOs3riu",
        "outputId": "1a4ef375-e7eb-43d5-f2ac-7b661cba6bd5"
      },
      "source": [
        "from sklearn.naive_bayes import GaussianNB\n",
        "#Create a Gaussian Classifier..with model = GaussianNB()\n",
        "model=GaussianNB()\n",
        "# Train the model using the training sets\n",
        "model.fit(f,label)\n",
        "\n",
        "#Predict Output\n",
        "predicted= model.predict([[1,1,0]]) # 1:Yellow, 1:Sports,0:Domestic\n",
        "print(predicted)"
      ],
      "execution_count": null,
      "outputs": [
        {
          "output_type": "stream",
          "text": [
            "[1]\n"
          ],
          "name": "stdout"
        }
      ]
    }
  ]
}